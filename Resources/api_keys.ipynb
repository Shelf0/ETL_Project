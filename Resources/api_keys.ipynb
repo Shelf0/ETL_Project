{
 "cells": [
  {
   "cell_type": "code",
   "execution_count": null,
   "metadata": {},
   "outputs": [],
   "source": [
    "rapid_api_key = '72efc168a5msh4371fe4af5ab202p118a63jsn518830bc27b4'\n",
    "\n"
   ]
  }
 ],
 "metadata": {
  "language_info": {
   "name": "python"
  },
  "orig_nbformat": 4
 },
 "nbformat": 4,
 "nbformat_minor": 2
}
